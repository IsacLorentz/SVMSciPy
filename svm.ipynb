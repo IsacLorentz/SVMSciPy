{
 "cells": [
  {
   "cell_type": "code",
   "execution_count": 979,
   "metadata": {},
   "outputs": [
    {
     "name": "stdout",
     "output_type": "stream",
     "text": [
      "The nb_black extension is already loaded. To reload it, use:\n",
      "  %reload_ext nb_black\n"
     ]
    },
    {
     "data": {
      "application/javascript": "\n            setTimeout(function() {\n                var nbb_cell_id = 979;\n                var nbb_unformatted_code = \"%load_ext nb_black \\n\\nimport random\\nimport math\\nimport numpy as np\\nfrom scipy.optimize import minimize\\nimport matplotlib.pyplot as plt\\nimport sklearn.datasets as dt\";\n                var nbb_formatted_code = \"%load_ext nb_black\\n\\nimport random\\nimport math\\nimport numpy as np\\nfrom scipy.optimize import minimize\\nimport matplotlib.pyplot as plt\\nimport sklearn.datasets as dt\";\n                var nbb_cells = Jupyter.notebook.get_cells();\n                for (var i = 0; i < nbb_cells.length; ++i) {\n                    if (nbb_cells[i].input_prompt_number == nbb_cell_id) {\n                        if (nbb_cells[i].get_text() == nbb_unformatted_code) {\n                             nbb_cells[i].set_text(nbb_formatted_code);\n                        }\n                        break;\n                    }\n                }\n            }, 500);\n            ",
      "text/plain": [
       "<IPython.core.display.Javascript object>"
      ]
     },
     "metadata": {},
     "output_type": "display_data"
    }
   ],
   "source": [
    "%load_ext nb_black \n",
    "\n",
    "import random\n",
    "import math\n",
    "import numpy as np\n",
    "from scipy.optimize import minimize\n",
    "import matplotlib.pyplot as plt\n",
    "import sklearn.datasets as dt"
   ]
  },
  {
   "cell_type": "code",
   "execution_count": 980,
   "metadata": {},
   "outputs": [
    {
     "data": {
      "application/javascript": "\n            setTimeout(function() {\n                var nbb_cell_id = 980;\n                var nbb_unformatted_code = \"#X, Y = dt.make_moons(100, noise=0.1)\\n#inputs = X\\n#targets = []\\n#for elem in Y:\\n#  if elem != 0:\\n#    targets.append(elem)\\n#  else:\\n#    targets.append(-1)\\n\\n#classC = []\\n#for i in range(len(X)):\\n#  classC.append([X[i][0], X[i][1], 1 if Y[i] == 1 else -1])\\n#classA = [[a[0], a[1]] for a in classC if (a)[2] == 1]\\n#classB = [[a[0], a[1]] for a in classC if (a)[2] == -1]\\n\\nclassA = np.concatenate((np.random.randn(10,2) * 0.2 + [1.5, 0.5], np.random.randn(10,2) * 0.2 + [-1.5, 0.5]))\\nclassB = np.random.randn(20,2) * 0.2 + [0.0, -1]\\n\\n\\n\\n#classA = np.concatenate((np.random.randn(10,2) * 0.2 + [1.5, 0.5], np.random.randn(10,2) * 0.2 + [-1.5, 0.5]))\\n#classB = np.random.randn(20,2) * 0.2 + [0.0, -1.0]\\n\\n#classA = np.concatenate((\\n  #  np.random.randn(10, 2) * 0.2 + [1.5, 0.5],\\n   # np.random.randn(10, 2) * 0.2 + [-1.5, 0.5],\\n    #np.random.randn(10, 2) * 0.2 + [0.0, -1.0],\\n    #))\\n#classB=np.random.randn(10, 2) * 0.1 + [0.0, -0.5]\\n\\ninputs = np.concatenate((classA, classB))\\ntargets = np.concatenate((np.ones(classA.shape[0]), -np.ones(classB.shape[0])))\\n\\n\\nN = inputs.shape[0]\\npermute = list(range(N))\\nrandom.shuffle(permute)\\ninputs = inputs[permute,:]\\ntargets = targets[permute]\";\n                var nbb_formatted_code = \"# X, Y = dt.make_moons(100, noise=0.1)\\n# inputs = X\\n# targets = []\\n# for elem in Y:\\n#  if elem != 0:\\n#    targets.append(elem)\\n#  else:\\n#    targets.append(-1)\\n\\n# classC = []\\n# for i in range(len(X)):\\n#  classC.append([X[i][0], X[i][1], 1 if Y[i] == 1 else -1])\\n# classA = [[a[0], a[1]] for a in classC if (a)[2] == 1]\\n# classB = [[a[0], a[1]] for a in classC if (a)[2] == -1]\\n\\nclassA = np.concatenate(\\n    (\\n        np.random.randn(10, 2) * 0.2 + [1.5, 0.5],\\n        np.random.randn(10, 2) * 0.2 + [-1.5, 0.5],\\n    )\\n)\\nclassB = np.random.randn(20, 2) * 0.2 + [0.0, -1]\\n\\n\\n# classA = np.concatenate((np.random.randn(10,2) * 0.2 + [1.5, 0.5], np.random.randn(10,2) * 0.2 + [-1.5, 0.5]))\\n# classB = np.random.randn(20,2) * 0.2 + [0.0, -1.0]\\n\\n# classA = np.concatenate((\\n#  np.random.randn(10, 2) * 0.2 + [1.5, 0.5],\\n# np.random.randn(10, 2) * 0.2 + [-1.5, 0.5],\\n# np.random.randn(10, 2) * 0.2 + [0.0, -1.0],\\n# ))\\n# classB=np.random.randn(10, 2) * 0.1 + [0.0, -0.5]\\n\\ninputs = np.concatenate((classA, classB))\\ntargets = np.concatenate((np.ones(classA.shape[0]), -np.ones(classB.shape[0])))\\n\\n\\nN = inputs.shape[0]\\npermute = list(range(N))\\nrandom.shuffle(permute)\\ninputs = inputs[permute, :]\\ntargets = targets[permute]\";\n                var nbb_cells = Jupyter.notebook.get_cells();\n                for (var i = 0; i < nbb_cells.length; ++i) {\n                    if (nbb_cells[i].input_prompt_number == nbb_cell_id) {\n                        if (nbb_cells[i].get_text() == nbb_unformatted_code) {\n                             nbb_cells[i].set_text(nbb_formatted_code);\n                        }\n                        break;\n                    }\n                }\n            }, 500);\n            ",
      "text/plain": [
       "<IPython.core.display.Javascript object>"
      ]
     },
     "metadata": {},
     "output_type": "display_data"
    }
   ],
   "source": [
    "#X, Y = dt.make_moons(100, noise=0.1)\n",
    "#inputs = X\n",
    "#targets = []\n",
    "#for elem in Y:\n",
    "#  if elem != 0:\n",
    "#    targets.append(elem)\n",
    "#  else:\n",
    "#    targets.append(-1)\n",
    "\n",
    "#classC = []\n",
    "#for i in range(len(X)):\n",
    "#  classC.append([X[i][0], X[i][1], 1 if Y[i] == 1 else -1])\n",
    "#classA = [[a[0], a[1]] for a in classC if (a)[2] == 1]\n",
    "#classB = [[a[0], a[1]] for a in classC if (a)[2] == -1]\n",
    "\n",
    "classA = np.concatenate((np.random.randn(10,2) * 0.2 + [1.5, 0.5], np.random.randn(10,2) * 0.2 + [-1.5, 0.5]))\n",
    "classB = np.random.randn(20,2) * 0.2 + [0.0, -1]\n",
    "\n",
    "\n",
    "\n",
    "#classA = np.concatenate((np.random.randn(10,2) * 0.2 + [1.5, 0.5], np.random.randn(10,2) * 0.2 + [-1.5, 0.5]))\n",
    "#classB = np.random.randn(20,2) * 0.2 + [0.0, -1.0]\n",
    "\n",
    "#classA = np.concatenate((\n",
    "  #  np.random.randn(10, 2) * 0.2 + [1.5, 0.5],\n",
    "   # np.random.randn(10, 2) * 0.2 + [-1.5, 0.5],\n",
    "    #np.random.randn(10, 2) * 0.2 + [0.0, -1.0],\n",
    "    #))\n",
    "#classB=np.random.randn(10, 2) * 0.1 + [0.0, -0.5]\n",
    "\n",
    "inputs = np.concatenate((classA, classB))\n",
    "targets = np.concatenate((np.ones(classA.shape[0]), -np.ones(classB.shape[0])))\n",
    "\n",
    "\n",
    "N = inputs.shape[0]\n",
    "permute = list(range(N))\n",
    "random.shuffle(permute)\n",
    "inputs = inputs[permute,:]\n",
    "targets = targets[permute]"
   ]
  },
  {
   "cell_type": "code",
   "execution_count": 981,
   "metadata": {},
   "outputs": [
    {
     "data": {
      "image/png": "[encoded data removed]",
      "text/plain": [
       "<Figure size 432x288 with 1 Axes>"
      ]
     },
     "metadata": {
      "needs_background": "light"
     },
     "output_type": "display_data"
    },
    {
     "data": {
      "application/javascript": "\n            setTimeout(function() {\n                var nbb_cell_id = 981;\n                var nbb_unformatted_code = \"plt.plot([p[0] for p in classA], [p[1] for p in classA], 'b.')\\nplt.plot([p[0] for p in classB], [p[1] for p in classB], 'r.')\\n\\nplt.axis('equal')\\nplt.show()\";\n                var nbb_formatted_code = \"plt.plot([p[0] for p in classA], [p[1] for p in classA], \\\"b.\\\")\\nplt.plot([p[0] for p in classB], [p[1] for p in classB], \\\"r.\\\")\\n\\nplt.axis(\\\"equal\\\")\\nplt.show()\";\n                var nbb_cells = Jupyter.notebook.get_cells();\n                for (var i = 0; i < nbb_cells.length; ++i) {\n                    if (nbb_cells[i].input_prompt_number == nbb_cell_id) {\n                        if (nbb_cells[i].get_text() == nbb_unformatted_code) {\n                             nbb_cells[i].set_text(nbb_formatted_code);\n                        }\n                        break;\n                    }\n                }\n            }, 500);\n            ",
      "text/plain": [
       "<IPython.core.display.Javascript object>"
      ]
     },
     "metadata": {},
     "output_type": "display_data"
    }
   ],
   "source": [
    "plt.plot([p[0] for p in classA], [p[1] for p in classA], 'b.')\n",
    "plt.plot([p[0] for p in classB], [p[1] for p in classB], 'r.')\n",
    "\n",
    "plt.axis('equal')\n",
    "plt.show()"
   ]
  },
  {
   "cell_type": "code",
   "execution_count": 982,
   "metadata": {},
   "outputs": [
    {
     "data": {
      "application/javascript": "\n            setTimeout(function() {\n                var nbb_cell_id = 982;\n                var nbb_unformatted_code = \"\\ndef linearKernel(a,b):\\n    return np.dot(a,b)\\n\\ndeg = 3\\ndef polynomialKernel(a,b):\\n    return pow((np.dot(np.transpose(a), b)+1),deg)\\n    \\nsigma = 1\\ndef rbfKernel(a,b):\\n    nom = pow(np.linalg.norm(a-b),2)\\n    denom = 2*pow(sigma,2)\\n    return math.exp(-nom/denom)\\n\\nkernel = linearKernel\";\n                var nbb_formatted_code = \"def linearKernel(a, b):\\n    return np.dot(a, b)\\n\\n\\ndeg = 3\\n\\n\\ndef polynomialKernel(a, b):\\n    return pow((np.dot(np.transpose(a), b) + 1), deg)\\n\\n\\nsigma = 1\\n\\n\\ndef rbfKernel(a, b):\\n    nom = pow(np.linalg.norm(a - b), 2)\\n    denom = 2 * pow(sigma, 2)\\n    return math.exp(-nom / denom)\\n\\n\\nkernel = linearKernel\";\n                var nbb_cells = Jupyter.notebook.get_cells();\n                for (var i = 0; i < nbb_cells.length; ++i) {\n                    if (nbb_cells[i].input_prompt_number == nbb_cell_id) {\n                        if (nbb_cells[i].get_text() == nbb_unformatted_code) {\n                             nbb_cells[i].set_text(nbb_formatted_code);\n                        }\n                        break;\n                    }\n                }\n            }, 500);\n            ",
      "text/plain": [
       "<IPython.core.display.Javascript object>"
      ]
     },
     "metadata": {},
     "output_type": "display_data"
    }
   ],
   "source": [
    "\n",
    "def linearKernel(a,b):\n",
    "    return np.dot(a,b)\n",
    "\n",
    "deg = 3\n",
    "def polynomialKernel(a,b):\n",
    "    return pow((np.dot(np.transpose(a), b)+1),deg)\n",
    "    \n",
    "sigma = 1\n",
    "def rbfKernel(a,b):\n",
    "    nom = pow(np.linalg.norm(a-b),2)\n",
    "    denom = 2*pow(sigma,2)\n",
    "    return math.exp(-nom/denom)\n",
    "\n",
    "kernel = linearKernel"
   ]
  },
  {
   "cell_type": "code",
   "execution_count": 983,
   "metadata": {},
   "outputs": [
    {
     "data": {
      "application/javascript": "\n            setTimeout(function() {\n                var nbb_cell_id = 983;\n                var nbb_unformatted_code = \"def getP(t, x):\\n    p = np.zeros(shape=(len(t), len(t)))\\n    for i in range(len(t)):\\n        for j in range(len(t)):\\n            p[i,j] = t[i]*t[j]*kernel(x[i], x[j])\\n    return p\\n\\nP = getP(targets,inputs)\";\n                var nbb_formatted_code = \"def getP(t, x):\\n    p = np.zeros(shape=(len(t), len(t)))\\n    for i in range(len(t)):\\n        for j in range(len(t)):\\n            p[i, j] = t[i] * t[j] * kernel(x[i], x[j])\\n    return p\\n\\n\\nP = getP(targets, inputs)\";\n                var nbb_cells = Jupyter.notebook.get_cells();\n                for (var i = 0; i < nbb_cells.length; ++i) {\n                    if (nbb_cells[i].input_prompt_number == nbb_cell_id) {\n                        if (nbb_cells[i].get_text() == nbb_unformatted_code) {\n                             nbb_cells[i].set_text(nbb_formatted_code);\n                        }\n                        break;\n                    }\n                }\n            }, 500);\n            ",
      "text/plain": [
       "<IPython.core.display.Javascript object>"
      ]
     },
     "metadata": {},
     "output_type": "display_data"
    }
   ],
   "source": [
    "def getP(t, x):\n",
    "    p = np.zeros(shape=(len(t), len(t)))\n",
    "    for i in range(len(t)):\n",
    "        for j in range(len(t)):\n",
    "            p[i,j] = t[i]*t[j]*kernel(x[i], x[j])\n",
    "    return p\n",
    "\n",
    "P = getP(targets,inputs)"
   ]
  },
  {
   "cell_type": "code",
   "execution_count": 984,
   "metadata": {},
   "outputs": [
    {
     "data": {
      "application/javascript": "\n            setTimeout(function() {\n                var nbb_cell_id = 984;\n                var nbb_unformatted_code = \"def objective(alpha):\\n    res = 0.0\\n    for i in range(len(alpha)):\\n        for j in range(len(alpha)):\\n            res += alpha[i]*alpha[j]*P[i,j]\\n\\n    return 0.5 * res - np.sum(alpha)\\n    \\n    \";\n                var nbb_formatted_code = \"def objective(alpha):\\n    res = 0.0\\n    for i in range(len(alpha)):\\n        for j in range(len(alpha)):\\n            res += alpha[i] * alpha[j] * P[i, j]\\n\\n    return 0.5 * res - np.sum(alpha)\";\n                var nbb_cells = Jupyter.notebook.get_cells();\n                for (var i = 0; i < nbb_cells.length; ++i) {\n                    if (nbb_cells[i].input_prompt_number == nbb_cell_id) {\n                        if (nbb_cells[i].get_text() == nbb_unformatted_code) {\n                             nbb_cells[i].set_text(nbb_formatted_code);\n                        }\n                        break;\n                    }\n                }\n            }, 500);\n            ",
      "text/plain": [
       "<IPython.core.display.Javascript object>"
      ]
     },
     "metadata": {},
     "output_type": "display_data"
    }
   ],
   "source": [
    "def objective(alpha):\n",
    "    res = 0.0\n",
    "    for i in range(len(alpha)):\n",
    "        for j in range(len(alpha)):\n",
    "            res += alpha[i]*alpha[j]*P[i,j]\n",
    "\n",
    "    return 0.5 * res - np.sum(alpha)\n",
    "    \n",
    "    \n"
   ]
  },
  {
   "cell_type": "code",
   "execution_count": 985,
   "metadata": {},
   "outputs": [
    {
     "data": {
      "application/javascript": "\n            setTimeout(function() {\n                var nbb_cell_id = 985;\n                var nbb_unformatted_code = \"def zerofun(alpha):\\n    return np.dot(alpha,targets)\";\n                var nbb_formatted_code = \"def zerofun(alpha):\\n    return np.dot(alpha, targets)\";\n                var nbb_cells = Jupyter.notebook.get_cells();\n                for (var i = 0; i < nbb_cells.length; ++i) {\n                    if (nbb_cells[i].input_prompt_number == nbb_cell_id) {\n                        if (nbb_cells[i].get_text() == nbb_unformatted_code) {\n                             nbb_cells[i].set_text(nbb_formatted_code);\n                        }\n                        break;\n                    }\n                }\n            }, 500);\n            ",
      "text/plain": [
       "<IPython.core.display.Javascript object>"
      ]
     },
     "metadata": {},
     "output_type": "display_data"
    }
   ],
   "source": [
    "def zerofun(alpha):\n",
    "    return np.dot(alpha,targets)"
   ]
  },
  {
   "cell_type": "code",
   "execution_count": 986,
   "metadata": {},
   "outputs": [
    {
     "data": {
      "application/javascript": "\n            setTimeout(function() {\n                var nbb_cell_id = 986;\n                var nbb_unformatted_code = \"#nonZeroAlpha = []\\n#nonZeroAlpha = [[alpha[i], inputs[i],targets[i]] for i in range(len(alpha)) if alpha[i] > pow(10,-5)]\\n#for i in range(len(alpha)):\\n#    if alpha[i] > pow(10,-5):\\n#        nonZeroAlpha.append([alpha[i], inputs[i],targets[i]])\";\n                var nbb_formatted_code = \"# nonZeroAlpha = []\\n# nonZeroAlpha = [[alpha[i], inputs[i],targets[i]] for i in range(len(alpha)) if alpha[i] > pow(10,-5)]\\n# for i in range(len(alpha)):\\n#    if alpha[i] > pow(10,-5):\\n#        nonZeroAlpha.append([alpha[i], inputs[i],targets[i]])\";\n                var nbb_cells = Jupyter.notebook.get_cells();\n                for (var i = 0; i < nbb_cells.length; ++i) {\n                    if (nbb_cells[i].input_prompt_number == nbb_cell_id) {\n                        if (nbb_cells[i].get_text() == nbb_unformatted_code) {\n                             nbb_cells[i].set_text(nbb_formatted_code);\n                        }\n                        break;\n                    }\n                }\n            }, 500);\n            ",
      "text/plain": [
       "<IPython.core.display.Javascript object>"
      ]
     },
     "metadata": {},
     "output_type": "display_data"
    }
   ],
   "source": [
    "#nonZeroAlpha = []\n",
    "#nonZeroAlpha = [[alpha[i], inputs[i],targets[i]] for i in range(len(alpha)) if alpha[i] > pow(10,-5)]\n",
    "#for i in range(len(alpha)):\n",
    "#    if alpha[i] > pow(10,-5):\n",
    "#        nonZeroAlpha.append([alpha[i], inputs[i],targets[i]])"
   ]
  },
  {
   "cell_type": "code",
   "execution_count": 987,
   "metadata": {},
   "outputs": [
    {
     "data": {
      "application/javascript": "\n            setTimeout(function() {\n                var nbb_cell_id = 987;\n                var nbb_unformatted_code = \"def getB(nonZeroAlpha):\\n    b = 0\\n    for i in range(len(nonZeroAlpha)):\\n        b += nonZeroAlpha[i][0]*nonZeroAlpha[i][2]* kernel(nonZeroAlpha[0][1],nonZeroAlpha[i][1]) \\n    return b - nonZeroAlpha[0][2]\";\n                var nbb_formatted_code = \"def getB(nonZeroAlpha):\\n    b = 0\\n    for i in range(len(nonZeroAlpha)):\\n        b += (\\n            nonZeroAlpha[i][0]\\n            * nonZeroAlpha[i][2]\\n            * kernel(nonZeroAlpha[0][1], nonZeroAlpha[i][1])\\n        )\\n    return b - nonZeroAlpha[0][2]\";\n                var nbb_cells = Jupyter.notebook.get_cells();\n                for (var i = 0; i < nbb_cells.length; ++i) {\n                    if (nbb_cells[i].input_prompt_number == nbb_cell_id) {\n                        if (nbb_cells[i].get_text() == nbb_unformatted_code) {\n                             nbb_cells[i].set_text(nbb_formatted_code);\n                        }\n                        break;\n                    }\n                }\n            }, 500);\n            ",
      "text/plain": [
       "<IPython.core.display.Javascript object>"
      ]
     },
     "metadata": {},
     "output_type": "display_data"
    }
   ],
   "source": [
    "def getB(nonZeroAlpha):\n",
    "    b = 0\n",
    "    for i in range(len(nonZeroAlpha)):\n",
    "        b += nonZeroAlpha[i][0]*nonZeroAlpha[i][2]* kernel(nonZeroAlpha[0][1],nonZeroAlpha[i][1]) \n",
    "    return b - nonZeroAlpha[0][2]\n"
   ]
  },
  {
   "cell_type": "code",
   "execution_count": 988,
   "metadata": {},
   "outputs": [
    {
     "data": {
      "application/javascript": "\n            setTimeout(function() {\n                var nbb_cell_id = 988;\n                var nbb_unformatted_code = \"def indicator(s):\\n    res = 0\\n    for i in range(len(nonZeroAlpha)):\\n        res += nonZeroAlpha[i][0]*nonZeroAlpha[i][2]*kernel(s,nonZeroAlpha[i][1])\\n    return res - b\";\n                var nbb_formatted_code = \"def indicator(s):\\n    res = 0\\n    for i in range(len(nonZeroAlpha)):\\n        res += nonZeroAlpha[i][0] * nonZeroAlpha[i][2] * kernel(s, nonZeroAlpha[i][1])\\n    return res - b\";\n                var nbb_cells = Jupyter.notebook.get_cells();\n                for (var i = 0; i < nbb_cells.length; ++i) {\n                    if (nbb_cells[i].input_prompt_number == nbb_cell_id) {\n                        if (nbb_cells[i].get_text() == nbb_unformatted_code) {\n                             nbb_cells[i].set_text(nbb_formatted_code);\n                        }\n                        break;\n                    }\n                }\n            }, 500);\n            ",
      "text/plain": [
       "<IPython.core.display.Javascript object>"
      ]
     },
     "metadata": {},
     "output_type": "display_data"
    }
   ],
   "source": [
    "def indicator(s):\n",
    "    res = 0\n",
    "    for i in range(len(nonZeroAlpha)):\n",
    "        res += nonZeroAlpha[i][0]*nonZeroAlpha[i][2]*kernel(s,nonZeroAlpha[i][1])\n",
    "    return res - b"
   ]
  },
  {
   "cell_type": "code",
   "execution_count": 989,
   "metadata": {},
   "outputs": [
    {
     "name": "stdout",
     "output_type": "stream",
     "text": [
      "Exit message:  Optimization terminated successfully\n"
     ]
    },
    {
     "data": {
      "application/javascript": "\n            setTimeout(function() {\n                var nbb_cell_id = 989;\n                var nbb_unformatted_code = \"XC = {'type':'eq', 'fun' : zerofun}\\n#N = \\nC = 100 #change?\\nbounds = [(0, C) for b in range(N)]\\nstart = np.zeros(N)\\nret = minimize(objective, start, bounds=bounds, constraints=XC)\\nprint('Exit message: ', ret['message'])\\nif not ret['success']:\\n    raise Exception(\\\"No optimal solution found\\\")\\n    print('no optimal solution found')\\n    alpha = ret['x']\\n    #nonZeroAlpha = [val for val in alpha if val > pow(10,-5)]\\n    nonZeroAlpha = [[alpha[i], inputs[i],targets[i]] for i in range(len(alpha)) if alpha[i] > pow(10,-5)]\\n    success = False\\nelse:\\n    success = True\\n    alpha = ret['x']\\n    #nonZeroAlpha = [val for val in alpha if val > pow(10,-5)]\\n    nonZeroAlpha = [[alpha[i], inputs[i],targets[i]] for i in range(len(alpha)) if alpha[i] > pow(10,-5)]\\n\\n    #print(nonZeroAlpha)\\nb = getB(nonZeroAlpha)\";\n                var nbb_formatted_code = \"XC = {\\\"type\\\": \\\"eq\\\", \\\"fun\\\": zerofun}\\n# N =\\nC = 100  # change?\\nbounds = [(0, C) for b in range(N)]\\nstart = np.zeros(N)\\nret = minimize(objective, start, bounds=bounds, constraints=XC)\\nprint(\\\"Exit message: \\\", ret[\\\"message\\\"])\\nif not ret[\\\"success\\\"]:\\n    raise Exception(\\\"No optimal solution found\\\")\\n    print(\\\"no optimal solution found\\\")\\n    alpha = ret[\\\"x\\\"]\\n    # nonZeroAlpha = [val for val in alpha if val > pow(10,-5)]\\n    nonZeroAlpha = [\\n        [alpha[i], inputs[i], targets[i]]\\n        for i in range(len(alpha))\\n        if alpha[i] > pow(10, -5)\\n    ]\\n    success = False\\nelse:\\n    success = True\\n    alpha = ret[\\\"x\\\"]\\n    # nonZeroAlpha = [val for val in alpha if val > pow(10,-5)]\\n    nonZeroAlpha = [\\n        [alpha[i], inputs[i], targets[i]]\\n        for i in range(len(alpha))\\n        if alpha[i] > pow(10, -5)\\n    ]\\n\\n    # print(nonZeroAlpha)\\nb = getB(nonZeroAlpha)\";\n                var nbb_cells = Jupyter.notebook.get_cells();\n                for (var i = 0; i < nbb_cells.length; ++i) {\n                    if (nbb_cells[i].input_prompt_number == nbb_cell_id) {\n                        if (nbb_cells[i].get_text() == nbb_unformatted_code) {\n                             nbb_cells[i].set_text(nbb_formatted_code);\n                        }\n                        break;\n                    }\n                }\n            }, 500);\n            ",
      "text/plain": [
       "<IPython.core.display.Javascript object>"
      ]
     },
     "metadata": {},
     "output_type": "display_data"
    }
   ],
   "source": [
    "XC = {'type':'eq', 'fun' : zerofun}\n",
    "#N = \n",
    "C = 100 #change?\n",
    "bounds = [(0, C) for b in range(N)]\n",
    "start = np.zeros(N)\n",
    "ret = minimize(objective, start, bounds=bounds, constraints=XC)\n",
    "print('Exit message: ', ret['message'])\n",
    "if not ret['success']:\n",
    "    raise Exception(\"No optimal solution found\")\n",
    "    print('no optimal solution found')\n",
    "    alpha = ret['x']\n",
    "    #nonZeroAlpha = [val for val in alpha if val > pow(10,-5)]\n",
    "    nonZeroAlpha = [[alpha[i], inputs[i],targets[i]] for i in range(len(alpha)) if alpha[i] > pow(10,-5)]\n",
    "    success = False\n",
    "else:\n",
    "    success = True\n",
    "    alpha = ret['x']\n",
    "    #nonZeroAlpha = [val for val in alpha if val > pow(10,-5)]\n",
    "    nonZeroAlpha = [[alpha[i], inputs[i],targets[i]] for i in range(len(alpha)) if alpha[i] > pow(10,-5)]\n",
    "\n",
    "    #print(nonZeroAlpha)\n",
    "b = getB(nonZeroAlpha)"
   ]
  },
  {
   "cell_type": "code",
   "execution_count": 990,
   "metadata": {},
   "outputs": [
    {
     "data": {
      "image/png": "[encoded data removed]",
      "text/plain": [
       "<Figure size 432x288 with 1 Axes>"
      ]
     },
     "metadata": {
      "needs_background": "light"
     },
     "output_type": "display_data"
    },
    {
     "name": "stdout",
     "output_type": "stream",
     "text": [
      "solution found\n"
     ]
    },
    {
     "data": {
      "application/javascript": "\n            setTimeout(function() {\n                var nbb_cell_id = 990;\n                var nbb_unformatted_code = \"\\nxgrid=np.linspace(-3,3)\\nygrid=np.linspace(-3,3)\\ngrid=np.array([[indicator([x,y]) \\nfor x in xgrid]\\nfor y in ygrid])\\n\\nplt.plot([p[0] for p in classA], [p[1] for p in classA], 'b.')\\nplt.plot([p[0] for p in classB], [p[1] for p in classB], 'r.')\\n\\nplt.contour(xgrid,ygrid,grid, (-1.0, 0.0, 1.0), colors=('red','black','blue'), linewidths=(1,1,1))\\n\\nplt.show()\\nif success:\\n    print('solution found')\\nelse:\\n    print('no solution found')\";\n                var nbb_formatted_code = \"xgrid = np.linspace(-3, 3)\\nygrid = np.linspace(-3, 3)\\ngrid = np.array([[indicator([x, y]) for x in xgrid] for y in ygrid])\\n\\nplt.plot([p[0] for p in classA], [p[1] for p in classA], \\\"b.\\\")\\nplt.plot([p[0] for p in classB], [p[1] for p in classB], \\\"r.\\\")\\n\\nplt.contour(\\n    xgrid,\\n    ygrid,\\n    grid,\\n    (-1.0, 0.0, 1.0),\\n    colors=(\\\"red\\\", \\\"black\\\", \\\"blue\\\"),\\n    linewidths=(1, 1, 1),\\n)\\n\\nplt.show()\\nif success:\\n    print(\\\"solution found\\\")\\nelse:\\n    print(\\\"no solution found\\\")\";\n                var nbb_cells = Jupyter.notebook.get_cells();\n                for (var i = 0; i < nbb_cells.length; ++i) {\n                    if (nbb_cells[i].input_prompt_number == nbb_cell_id) {\n                        if (nbb_cells[i].get_text() == nbb_unformatted_code) {\n                             nbb_cells[i].set_text(nbb_formatted_code);\n                        }\n                        break;\n                    }\n                }\n            }, 500);\n            ",
      "text/plain": [
       "<IPython.core.display.Javascript object>"
      ]
     },
     "metadata": {},
     "output_type": "display_data"
    }
   ],
   "source": [
    "\n",
    "xgrid=np.linspace(-3,3)\n",
    "ygrid=np.linspace(-3,3)\n",
    "grid=np.array([[indicator([x,y]) \n",
    "for x in xgrid]\n",
    "for y in ygrid])\n",
    "\n",
    "plt.plot([p[0] for p in classA], [p[1] for p in classA], 'b.')\n",
    "plt.plot([p[0] for p in classB], [p[1] for p in classB], 'r.')\n",
    "\n",
    "plt.contour(xgrid,ygrid,grid, (-1.0, 0.0, 1.0), colors=('red','black','blue'), linewidths=(1,1,1))\n",
    "\n",
    "plt.show()\n",
    "if success:\n",
    "    print('solution found')\n",
    "else:\n",
    "    print('no solution found')"
   ]
  },
  {
   "cell_type": "markdown",
   "metadata": {},
   "source": []
  },
  {
   "cell_type": "markdown",
   "metadata": {},
   "source": [
    "# 7 Exploring and Reporting\n",
    "\n",
    "## 7.1\n",
    "\n",
    "### Linear kernel\n",
    "\n",
    "Linear kernel requires that the two classes can be separated by a line. When this is not the case, minimize will not find an optimal solution.\n",
    "\n",
    "**Succesful solution, 0.1 STD**\n",
    "\n",
    "![image](Outputs/linear/svmsucces2.png 'Sucessful')\n",
    "\n",
    "\n",
    "**Succesful solution, 0.2 STD**\n",
    "\n",
    "![image](Outputs/linear/linearsucces02.png 'Sucessful')\n",
    "\n",
    "**Failed due to iteration limit reached**\n",
    "\n",
    "![image](Outputs/linear/linearfail02.png 'Sucessful')\n",
    "\n",
    "## 7.2\n",
    "\n",
    "### Polynomial Kernel\n",
    "\n",
    "**Succesful solution, degree 2**\n",
    "\n",
    "![image](Outputs/pol/sucdeg2v2.png 'Sucessful')\n",
    "\n",
    "\n",
    "**Succesful solution, degree 3**\n",
    "\n",
    "![image](Outputs/pol/sucdeg3.png 'Sucessful')\n",
    "\n",
    "### RBF Kernel\n",
    "\n",
    "\n",
    "**Succesful solution, sigma = 0.1**\n",
    "\n",
    "![image](Outputs/rbf/suc01.png 'Sucessful')\n",
    "\n",
    "**Succesful solution, sigma = 0.5**\n",
    "\n",
    "![image](Outputs/rbf/suc05.png 'Sucessful')\n",
    "\n",
    "**Succesful solution, sigma = 1**\n",
    "\n",
    "![image](Outputs/rbf/suc1.png 'Sucessful')\n",
    "\n",
    "## 7.3\n",
    "\n",
    "### Polynomial Kernel\n",
    "\n",
    "A higher degree will enable the decision boundry to be fitted to more complex functions. High P can lead to overfitting, more complex boundry leads to more variance and less bias.\n",
    "\n",
    "Low p will lead to a more smooth boundry, this will lead to underfitting, low variance and high bias.\n",
    "\n",
    "### RBF\n",
    "\n",
    "Small sigma will lead to overfitting (high variance, low bias)\n",
    "\n",
    "Large sigma will lead to underfitting (low variance, high bias)\n",
    "\n",
    "## 7.4\n",
    "\n",
    "\n",
    "C = 0.1\n",
    "\n",
    "![image](Outputs/slack/01.png 'Sucessful')\n",
    "\n",
    "C = 1\n",
    "\n",
    "![image](Outputs/slack/1.png 'Sucessful')\n",
    "\n",
    "C = 5\n",
    "\n",
    "![image](Outputs/slack/5.png 'Sucessful')\n",
    "\n",
    "\n",
    "Small C leads to wider marigins and more missclassifications.\n",
    "\n",
    "Large C leads to a thinner marigin and less missclassification. \n",
    "\n",
    "\n",
    "\n",
    "\n",
    "## 7.5\n",
    "\n",
    "When data has a lot of noice and little complexity, more slack and less complex kernel is preferable since this prevents overfitting.\n",
    "\n",
    "When data has little noice and high complexity, a more komplex kernel and less slack is preferable to prevent underfitting.\n",
    "\n",
    "\n",
    "\n"
   ]
  }
 ],
 "metadata": {
  "interpreter": {
   "hash": "0540b83971854464c152f8ffed20df79638726da89a7f58408fce7ab43962f2d"
  },
  "kernelspec": {
   "display_name": "Python 3.7.11 64-bit ('DD2421': conda)",
   "name": "python3"
  },
  "language_info": {
   "codemirror_mode": {
    "name": "ipython",
    "version": 3
   },
   "file_extension": ".py",
   "mimetype": "text/x-python",
   "name": "python",
   "nbconvert_exporter": "python",
   "pygments_lexer": "ipython3",
   "version": "3.7.11"
  },
  "orig_nbformat": 4
 },
 "nbformat": 4,
 "nbformat_minor": 2
}
